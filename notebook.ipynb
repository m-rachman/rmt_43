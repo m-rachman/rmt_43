{
 "cells": [
  {
   "cell_type": "markdown",
   "id": "80e7fea3",
   "metadata": {},
   "source": [
    "markdown berfungsi untuk penjelasan"
   ]
  },
  {
   "cell_type": "code",
   "execution_count": 1,
   "id": "994cb6f7",
   "metadata": {},
   "outputs": [
    {
     "data": {
      "text/plain": [
       "'3.11.7 | packaged by conda-forge | (main, Dec 23 2023, 14:38:07) [Clang 16.0.6 ]'"
      ]
     },
     "execution_count": 1,
     "metadata": {},
     "output_type": "execute_result"
    }
   ],
   "source": [
    "import sys\n",
    "\n",
    "sys.version"
   ]
  },
  {
   "cell_type": "markdown",
   "id": "2c56caed",
   "metadata": {},
   "source": [
    "# ini adalah judul"
   ]
  },
  {
   "cell_type": "code",
   "execution_count": null,
   "id": "d85c6d22",
   "metadata": {},
   "outputs": [
    {
     "name": "stdout",
     "output_type": "stream",
     "text": [
      "Hello, world!\n"
     ]
    }
   ],
   "source": [
    "# ini adalah contoh print\n",
    "print(\"Hello, world!\")"
   ]
  },
  {
   "cell_type": "code",
   "execution_count": 9,
   "id": "3f8293b3",
   "metadata": {},
   "outputs": [
    {
     "data": {
      "text/plain": [
       "'Hello, world!'"
      ]
     },
     "execution_count": 9,
     "metadata": {},
     "output_type": "execute_result"
    }
   ],
   "source": [
    "\"Hello, world!\""
   ]
  },
  {
   "cell_type": "markdown",
   "id": "54ef3587",
   "metadata": {},
   "source": [
    "## ini adalah judul"
   ]
  },
  {
   "cell_type": "code",
   "execution_count": 5,
   "id": "546b2a59",
   "metadata": {},
   "outputs": [
    {
     "name": "stdout",
     "output_type": "stream",
     "text": [
      "nama saya rachman\n"
     ]
    }
   ],
   "source": [
    "print('nama saya rachman')"
   ]
  },
  {
   "cell_type": "markdown",
   "id": "190a498d",
   "metadata": {},
   "source": [
    "**bold**"
   ]
  },
  {
   "cell_type": "markdown",
   "id": "2dd592ee",
   "metadata": {},
   "source": [
    "***bold***"
   ]
  },
  {
   "cell_type": "markdown",
   "id": "a5d94443",
   "metadata": {},
   "source": [
    "[image](https://gdb.voanews.com/5168e10b-1de9-46b2-bd06-e5724acd68ed_cx0_cy7_cw0_w1080_h608.jpg)"
   ]
  },
  {
   "cell_type": "code",
   "execution_count": null,
   "id": "7b8730ab",
   "metadata": {},
   "outputs": [],
   "source": []
  }
 ],
 "metadata": {
  "kernelspec": {
   "display_name": "base",
   "language": "python",
   "name": "python3"
  },
  "language_info": {
   "codemirror_mode": {
    "name": "ipython",
    "version": 3
   },
   "file_extension": ".py",
   "mimetype": "text/x-python",
   "name": "python",
   "nbconvert_exporter": "python",
   "pygments_lexer": "ipython3",
   "version": "3.11.7"
  }
 },
 "nbformat": 4,
 "nbformat_minor": 5
}
